{
 "cells": [
  {
   "cell_type": "code",
   "execution_count": 1,
   "metadata": {},
   "outputs": [],
   "source": [
    "import pandas as pd\n",
    "import numpy as np\n",
    "import matplotlib.pyplot as plt\n",
    "import scipy.optimize as op\n",
    "import networkx as nx\n",
    "from scipy.sparse import random\n",
    "from sklearn.datasets import make_sparse_spd_matrix\n",
    "from scipy.integrate import odeint\n",
    "import itertools\n",
    "from sklearn.metrics import mean_squared_error\n",
    "from jupyterthemes import jtplot\n",
    "jtplot.style()"
   ]
  },
  {
   "cell_type": "code",
   "execution_count": 2,
   "metadata": {},
   "outputs": [],
   "source": [
    "class ising:\n",
    "    \n",
    "    def __init__(self,J):\n",
    "        self.J = J\n",
    "        self.n = self.J.shape[0]\n",
    "        self.X = np.random.choice([-1,1],self.n)\n",
    "        self.S = np.zeros((self.n,self.n))\n",
    "        self.counts = 0\n",
    "        self.correl_counts = 0\n",
    "    \n",
    "    def update(self):\n",
    "        #self.counts += 1\n",
    "        i = np.random.randint(0,self.n)\n",
    "        E = self.X@self.J@self.X\n",
    "        self.X[i] *= -1\n",
    "        E_new = self.X@self.J@self.X\n",
    "        dE = E_new - E\n",
    "        p = 0.5*(1.0 + np.tanh(E_new-E))\n",
    "        if np.random.uniform(0,1)>p:\n",
    "            self.X[i] *= -1\n",
    "        '''    \n",
    "        if self.counts%self.n ==0:\n",
    "            self.correl_counts += 1\n",
    "            self.S += np.outer(self.X,self.X)   \n",
    "         '''   \n",
    "    def getCorrels(self):\n",
    "        return self.S/self.correl_counts\n",
    "    "
   ]
  },
  {
   "cell_type": "code",
   "execution_count": 3,
   "metadata": {},
   "outputs": [],
   "source": [
    "#a matrix of random uniform connections J[ij]\n",
    "    \n",
    "N = 7\n",
    "J = np.zeros((N,N))\n",
    "for i in range (N):   \n",
    "    for j in range(i,N):\n",
    "        \n",
    "        J[i][j] = J[j][i] = np.random.choice([0,np.random.uniform(0,0.3)],p=[0.5,0.5])\n",
    "        J[i][i] = 0\n",
    "#J = np.where(J>0.2,J,0)"
   ]
  },
  {
   "cell_type": "code",
   "execution_count": 4,
   "metadata": {},
   "outputs": [
    {
     "data": {
      "text/plain": [
       "array([[0.  , 0.  , 0.  , 0.15, 0.  , 0.1 , 0.  ],\n",
       "       [0.  , 0.  , 0.  , 0.  , 0.11, 0.  , 0.  ],\n",
       "       [0.  , 0.  , 0.  , 0.14, 0.  , 0.06, 0.06],\n",
       "       [0.15, 0.  , 0.14, 0.  , 0.  , 0.  , 0.  ],\n",
       "       [0.  , 0.11, 0.  , 0.  , 0.  , 0.1 , 0.  ],\n",
       "       [0.1 , 0.  , 0.06, 0.  , 0.1 , 0.  , 0.14],\n",
       "       [0.  , 0.  , 0.06, 0.  , 0.  , 0.14, 0.  ]])"
      ]
     },
     "execution_count": 4,
     "metadata": {},
     "output_type": "execute_result"
    }
   ],
   "source": [
    "np.around(J, decimals = 2)"
   ]
  },
  {
   "cell_type": "code",
   "execution_count": 5,
   "metadata": {},
   "outputs": [
    {
     "data": {
      "text/html": [
       "<div>\n",
       "<style scoped>\n",
       "    .dataframe tbody tr th:only-of-type {\n",
       "        vertical-align: middle;\n",
       "    }\n",
       "\n",
       "    .dataframe tbody tr th {\n",
       "        vertical-align: top;\n",
       "    }\n",
       "\n",
       "    .dataframe thead th {\n",
       "        text-align: right;\n",
       "    }\n",
       "</style>\n",
       "<table border=\"1\" class=\"dataframe\">\n",
       "  <thead>\n",
       "    <tr style=\"text-align: right;\">\n",
       "      <th></th>\n",
       "      <th>0</th>\n",
       "      <th>1</th>\n",
       "      <th>2</th>\n",
       "      <th>3</th>\n",
       "      <th>4</th>\n",
       "      <th>5</th>\n",
       "      <th>6</th>\n",
       "    </tr>\n",
       "  </thead>\n",
       "  <tbody>\n",
       "    <tr>\n",
       "      <th>0</th>\n",
       "      <td>-1</td>\n",
       "      <td>-1</td>\n",
       "      <td>-1</td>\n",
       "      <td>-1</td>\n",
       "      <td>-1</td>\n",
       "      <td>-1</td>\n",
       "      <td>-1</td>\n",
       "    </tr>\n",
       "    <tr>\n",
       "      <th>1</th>\n",
       "      <td>-1</td>\n",
       "      <td>-1</td>\n",
       "      <td>-1</td>\n",
       "      <td>-1</td>\n",
       "      <td>-1</td>\n",
       "      <td>-1</td>\n",
       "      <td>-1</td>\n",
       "    </tr>\n",
       "    <tr>\n",
       "      <th>2</th>\n",
       "      <td>-1</td>\n",
       "      <td>-1</td>\n",
       "      <td>-1</td>\n",
       "      <td>1</td>\n",
       "      <td>1</td>\n",
       "      <td>1</td>\n",
       "      <td>-1</td>\n",
       "    </tr>\n",
       "    <tr>\n",
       "      <th>3</th>\n",
       "      <td>-1</td>\n",
       "      <td>1</td>\n",
       "      <td>1</td>\n",
       "      <td>1</td>\n",
       "      <td>1</td>\n",
       "      <td>1</td>\n",
       "      <td>1</td>\n",
       "    </tr>\n",
       "    <tr>\n",
       "      <th>4</th>\n",
       "      <td>-1</td>\n",
       "      <td>1</td>\n",
       "      <td>-1</td>\n",
       "      <td>-1</td>\n",
       "      <td>-1</td>\n",
       "      <td>-1</td>\n",
       "      <td>-1</td>\n",
       "    </tr>\n",
       "  </tbody>\n",
       "</table>\n",
       "</div>"
      ],
      "text/plain": [
       "   0  1  2  3  4  5  6\n",
       "0 -1 -1 -1 -1 -1 -1 -1\n",
       "1 -1 -1 -1 -1 -1 -1 -1\n",
       "2 -1 -1 -1  1  1  1 -1\n",
       "3 -1  1  1  1  1  1  1\n",
       "4 -1  1 -1 -1 -1 -1 -1"
      ]
     },
     "execution_count": 5,
     "metadata": {},
     "output_type": "execute_result"
    }
   ],
   "source": [
    "''' Run the ising model with random initial states for 200 steps\n",
    "M times with the same J matrix and store the configurations in a df\n",
    "'''\n",
    "#beta = 2\n",
    "steps = 10000\n",
    "# no of configs M\n",
    "M = 300\n",
    "\n",
    "configs = []\n",
    "for i in range(M):\n",
    "    isingm = ising(J)\n",
    "    for j in range(steps):\n",
    "        isingm.update()\n",
    "    configs.append(isingm.X)\n",
    "    \n",
    "df = pd.DataFrame(configs)\n",
    "df.head()"
   ]
  },
  {
   "cell_type": "code",
   "execution_count": 6,
   "metadata": {},
   "outputs": [
    {
     "data": {
      "image/png": "[encoded data removed]",
      "text/plain": [
       "<Figure size 432x288 with 1 Axes>"
      ]
     },
     "metadata": {
      "needs_background": "dark"
     },
     "output_type": "display_data"
    }
   ],
   "source": [
    "plt.imshow(df[:20])\n",
    "plt.show()"
   ]
  },
  {
   "cell_type": "code",
   "execution_count": 7,
   "metadata": {},
   "outputs": [
    {
     "data": {
      "text/plain": [
       "array([[ 1.  , -0.01,  0.38,  0.53,  0.09,  0.45,  0.3 ],\n",
       "       [-0.01,  1.  ,  0.01,  0.02,  0.44,  0.17,  0.11],\n",
       "       [ 0.38,  0.01,  1.  ,  0.49,  0.19,  0.43,  0.32],\n",
       "       [ 0.53,  0.02,  0.49,  1.  ,  0.05,  0.33,  0.3 ],\n",
       "       [ 0.09,  0.44,  0.19,  0.05,  1.  ,  0.39,  0.24],\n",
       "       [ 0.45,  0.17,  0.43,  0.33,  0.39,  1.  ,  0.54],\n",
       "       [ 0.3 ,  0.11,  0.32,  0.3 ,  0.24,  0.54,  1.  ]])"
      ]
     },
     "execution_count": 7,
     "metadata": {},
     "output_type": "execute_result"
    }
   ],
   "source": [
    "def av_correls(df):\n",
    "    n = df.shape[1]\n",
    "    M = df.shape[0]\n",
    "    tot_corr = np.zeros((n,n))\n",
    "    for i in range(M):\n",
    "        tot_corr += np.outer(df.iloc[i,0:],df.iloc[i,0:])\n",
    "    return tot_corr/M\n",
    "\n",
    "C = av_correls(df)\n",
    "#C = C.clip(min = 0)\n",
    "np.around(C,2)"
   ]
  },
  {
   "cell_type": "code",
   "execution_count": 8,
   "metadata": {},
   "outputs": [
    {
     "data": {
      "text/plain": [
       "array([[ 1.  , -0.01,  0.38,  0.53,  0.09,  0.45,  0.3 ],\n",
       "       [-0.01,  1.  ,  0.01,  0.02,  0.44,  0.17,  0.11],\n",
       "       [ 0.38,  0.01,  1.  ,  0.49,  0.19,  0.43,  0.32],\n",
       "       [ 0.53,  0.02,  0.49,  1.  ,  0.05,  0.33,  0.3 ],\n",
       "       [ 0.09,  0.44,  0.19,  0.05,  1.  ,  0.39,  0.24],\n",
       "       [ 0.45,  0.17,  0.43,  0.33,  0.39,  1.  ,  0.54],\n",
       "       [ 0.3 ,  0.11,  0.32,  0.3 ,  0.24,  0.54,  1.  ]])"
      ]
     },
     "execution_count": 8,
     "metadata": {},
     "output_type": "execute_result"
    }
   ],
   "source": [
    "np.around(C,2)"
   ]
  },
  {
   "cell_type": "markdown",
   "metadata": {},
   "source": [
    "no external field, given D configurations sampled by BD, ML per sample is given by \n",
    "$$\n",
    "L_D(J) = \\frac{1}{M}\\ln p(D|J)=\\sum_{i<j} J_{ij}<\\sigma_i \\sigma_j>^D -\\ln Z(J)\n",
    "$$\n",
    "where Z is the partition function defined by\n",
    "$$\n",
    "Z(J) = \\sum_s e^{-H_J(s)}\n",
    "$$\n",
    "and H is the Hamiltonian\n",
    "$$\n",
    "H_J = - \\sum_{i<j} J_{ij}s_i s_j\n",
    "$$\n",
    "The sample averages of spin variables and their functions are denoted by\n",
    "$$\n",
    "<Q>^D = \\frac{1}{M} \\sum_{\\mu}Q(s^\\mu)\n",
    "$$"
   ]
  },
  {
   "cell_type": "markdown",
   "metadata": {},
   "source": [
    "1. run metropolis for lots of steps to get data (n samples)\n",
    "\n",
    "2.\n",
    "\\begin{equation}\n",
    "\\mathcal{L} = \\Pi_{k=1}^n f(\\underline{s}_k) = \\frac{1}{Z}e^{\\sum_{ij}J_{ij}s_i^1 s_j^1 + \\sum_{ij}J_{ij}s_i^2 s_j^2 + ... } = \\frac{1}{Z}e^{\\sum_{ij}J_{ij} n <s_is_j>}\n",
    "\\end{equation}\n",
    "3. Optimise log likelihood \n",
    "\\begin{equation}\n",
    "\\sum_{ij}J_{ij}<s_i s_j> - lnZ\n",
    "\\end{equation}"
   ]
  },
  {
   "cell_type": "code",
   "execution_count": 9,
   "metadata": {},
   "outputs": [],
   "source": [
    "sigmas = list(itertools.product([-1,1],repeat = N))"
   ]
  },
  {
   "cell_type": "code",
   "execution_count": 10,
   "metadata": {},
   "outputs": [],
   "source": [
    "def make_ML(S):\n",
    "    n = S.shape[0]\n",
    "    sigmas = list(itertools.product([-1,1],repeat = n))\n",
    "    def ML(J_list):\n",
    "        J = J_list.reshape((n,n))\n",
    "        Z = 0.0\n",
    "        for s in sigmas:\n",
    "            Z += np.exp(s@J@s)\n",
    "        return -(S*J).ravel().sum() + np.log(Z)\n",
    "    return ML\n",
    "          "
   ]
  },
  {
   "cell_type": "code",
   "execution_count": 11,
   "metadata": {},
   "outputs": [
    {
     "name": "stdout",
     "output_type": "stream",
     "text": [
      "[0.         0.         0.         0.15329672 0.         0.1039177\n",
      " 0.         0.         0.         0.         0.         0.10640332\n",
      " 0.         0.         0.         0.         0.         0.14183227\n",
      " 0.         0.06341795 0.05680228 0.15329672 0.         0.14183227\n",
      " 0.         0.         0.         0.         0.         0.10640332\n",
      " 0.         0.         0.         0.10432347 0.         0.1039177\n",
      " 0.         0.06341795 0.         0.10432347 0.         0.13808802\n",
      " 0.         0.         0.05680228 0.         0.         0.13808802\n",
      " 0.        ]\n"
     ]
    }
   ],
   "source": [
    "print(J.ravel())\n",
    "ML = make_ML(C)\n",
    "x = ML(J.ravel())"
   ]
  },
  {
   "cell_type": "code",
   "execution_count": 12,
   "metadata": {},
   "outputs": [
    {
     "name": "stdout",
     "output_type": "stream",
     "text": [
      "[[0. 0. 0. 0. 0. 0. 0.]\n",
      " [0. 0. 0. 0. 0. 0. 0.]\n",
      " [0. 0. 0. 0. 0. 0. 0.]\n",
      " [0. 0. 0. 0. 0. 0. 0.]\n",
      " [0. 0. 0. 0. 0. 0. 0.]\n",
      " [0. 0. 0. 0. 0. 0. 0.]\n",
      " [0. 0. 0. 0. 0. 0. 0.]]\n"
     ]
    }
   ],
   "source": [
    "J_guess = np.random.uniform(0,0.0,(N,N))\n",
    "print(J_guess)\n",
    "MLE = op.minimize(ML,J_guess.ravel())"
   ]
  },
  {
   "cell_type": "code",
   "execution_count": 13,
   "metadata": {},
   "outputs": [
    {
     "name": "stdout",
     "output_type": "stream",
     "text": [
      "[[ 0.   -0.02  0.02  0.13 -0.02  0.11  0.  ]\n",
      " [-0.02  0.   -0.03  0.02  0.12  0.01  0.  ]\n",
      " [ 0.02 -0.03  0.    0.11  0.04  0.07  0.02]\n",
      " [ 0.13  0.02  0.11  0.   -0.04 -0.01  0.04]\n",
      " [-0.02  0.12  0.04 -0.04  0.    0.11  0.01]\n",
      " [ 0.11  0.01  0.07 -0.01  0.11  0.    0.13]\n",
      " [ 0.    0.    0.02  0.04  0.01  0.13  0.  ]]\n"
     ]
    }
   ],
   "source": [
    "J_min =MLE[\"x\"].reshape(N,N) \n",
    "print(np.around(0.5*J_min,2))"
   ]
  },
  {
   "cell_type": "code",
   "execution_count": 14,
   "metadata": {},
   "outputs": [
    {
     "data": {
      "text/plain": [
       "array([[0.  , 0.  , 0.  , 0.15, 0.  , 0.1 , 0.  ],\n",
       "       [0.  , 0.  , 0.  , 0.  , 0.11, 0.  , 0.  ],\n",
       "       [0.  , 0.  , 0.  , 0.14, 0.  , 0.06, 0.06],\n",
       "       [0.15, 0.  , 0.14, 0.  , 0.  , 0.  , 0.  ],\n",
       "       [0.  , 0.11, 0.  , 0.  , 0.  , 0.1 , 0.  ],\n",
       "       [0.1 , 0.  , 0.06, 0.  , 0.1 , 0.  , 0.14],\n",
       "       [0.  , 0.  , 0.06, 0.  , 0.  , 0.14, 0.  ]])"
      ]
     },
     "execution_count": 14,
     "metadata": {},
     "output_type": "execute_result"
    }
   ],
   "source": [
    "np.around(J,2)"
   ]
  },
  {
   "cell_type": "code",
   "execution_count": 15,
   "metadata": {},
   "outputs": [
    {
     "data": {
      "text/plain": [
       "0.00043761808925577104"
      ]
     },
     "execution_count": 15,
     "metadata": {},
     "output_type": "execute_result"
    }
   ],
   "source": [
    "mean_squared_error(0.5*J_min,J)"
   ]
  },
  {
   "cell_type": "code",
   "execution_count": 16,
   "metadata": {},
   "outputs": [
    {
     "data": {
      "text/html": [
       "<div>\n",
       "<style scoped>\n",
       "    .dataframe tbody tr th:only-of-type {\n",
       "        vertical-align: middle;\n",
       "    }\n",
       "\n",
       "    .dataframe tbody tr th {\n",
       "        vertical-align: top;\n",
       "    }\n",
       "\n",
       "    .dataframe thead th {\n",
       "        text-align: right;\n",
       "    }\n",
       "</style>\n",
       "<table border=\"1\" class=\"dataframe\">\n",
       "  <thead>\n",
       "    <tr style=\"text-align: right;\">\n",
       "      <th></th>\n",
       "      <th>0</th>\n",
       "      <th>1</th>\n",
       "      <th>2</th>\n",
       "      <th>3</th>\n",
       "      <th>4</th>\n",
       "      <th>5</th>\n",
       "      <th>6</th>\n",
       "    </tr>\n",
       "  </thead>\n",
       "  <tbody>\n",
       "    <tr>\n",
       "      <th>0</th>\n",
       "      <td>-1</td>\n",
       "      <td>-1</td>\n",
       "      <td>-1</td>\n",
       "      <td>-1</td>\n",
       "      <td>-1</td>\n",
       "      <td>-1</td>\n",
       "      <td>-1</td>\n",
       "    </tr>\n",
       "    <tr>\n",
       "      <th>1</th>\n",
       "      <td>1</td>\n",
       "      <td>-1</td>\n",
       "      <td>1</td>\n",
       "      <td>1</td>\n",
       "      <td>-1</td>\n",
       "      <td>1</td>\n",
       "      <td>-1</td>\n",
       "    </tr>\n",
       "    <tr>\n",
       "      <th>2</th>\n",
       "      <td>-1</td>\n",
       "      <td>-1</td>\n",
       "      <td>1</td>\n",
       "      <td>-1</td>\n",
       "      <td>-1</td>\n",
       "      <td>-1</td>\n",
       "      <td>-1</td>\n",
       "    </tr>\n",
       "    <tr>\n",
       "      <th>3</th>\n",
       "      <td>1</td>\n",
       "      <td>1</td>\n",
       "      <td>1</td>\n",
       "      <td>1</td>\n",
       "      <td>1</td>\n",
       "      <td>1</td>\n",
       "      <td>1</td>\n",
       "    </tr>\n",
       "    <tr>\n",
       "      <th>4</th>\n",
       "      <td>-1</td>\n",
       "      <td>1</td>\n",
       "      <td>-1</td>\n",
       "      <td>-1</td>\n",
       "      <td>-1</td>\n",
       "      <td>-1</td>\n",
       "      <td>1</td>\n",
       "    </tr>\n",
       "  </tbody>\n",
       "</table>\n",
       "</div>"
      ],
      "text/plain": [
       "   0  1  2  3  4  5  6\n",
       "0 -1 -1 -1 -1 -1 -1 -1\n",
       "1  1 -1  1  1 -1  1 -1\n",
       "2 -1 -1  1 -1 -1 -1 -1\n",
       "3  1  1  1  1  1  1  1\n",
       "4 -1  1 -1 -1 -1 -1  1"
      ]
     },
     "execution_count": 16,
     "metadata": {},
     "output_type": "execute_result"
    }
   ],
   "source": [
    "configs = []\n",
    "for i in range(M):\n",
    "    isingm = ising(0.5*J_min)\n",
    "    for j in range(steps):\n",
    "        isingm.update()\n",
    "    configs.append(isingm.X)\n",
    "    \n",
    "df2 = pd.DataFrame(configs)\n",
    "df2.head()"
   ]
  },
  {
   "cell_type": "code",
   "execution_count": 17,
   "metadata": {},
   "outputs": [
    {
     "data": {
      "text/plain": [
       "array([[ 1.  , -0.04,  0.29,  0.49, -0.01,  0.34,  0.21],\n",
       "       [-0.04,  1.  ,  0.07,  0.02,  0.49,  0.21,  0.15],\n",
       "       [ 0.29,  0.07,  1.  ,  0.53,  0.15,  0.45,  0.37],\n",
       "       [ 0.49,  0.02,  0.53,  1.  ,  0.  ,  0.29,  0.23],\n",
       "       [-0.01,  0.49,  0.15,  0.  ,  1.  ,  0.37,  0.25],\n",
       "       [ 0.34,  0.21,  0.45,  0.29,  0.37,  1.  ,  0.61],\n",
       "       [ 0.21,  0.15,  0.37,  0.23,  0.25,  0.61,  1.  ]])"
      ]
     },
     "execution_count": 17,
     "metadata": {},
     "output_type": "execute_result"
    }
   ],
   "source": [
    "C2 = av_correls(df2)\n",
    "np.around(C2,2)"
   ]
  },
  {
   "cell_type": "code",
   "execution_count": 18,
   "metadata": {},
   "outputs": [
    {
     "data": {
      "text/plain": [
       "array([[ 1.  , -0.01,  0.38,  0.53,  0.09,  0.45,  0.3 ],\n",
       "       [-0.01,  1.  ,  0.01,  0.02,  0.44,  0.17,  0.11],\n",
       "       [ 0.38,  0.01,  1.  ,  0.49,  0.19,  0.43,  0.32],\n",
       "       [ 0.53,  0.02,  0.49,  1.  ,  0.05,  0.33,  0.3 ],\n",
       "       [ 0.09,  0.44,  0.19,  0.05,  1.  ,  0.39,  0.24],\n",
       "       [ 0.45,  0.17,  0.43,  0.33,  0.39,  1.  ,  0.54],\n",
       "       [ 0.3 ,  0.11,  0.32,  0.3 ,  0.24,  0.54,  1.  ]])"
      ]
     },
     "execution_count": 18,
     "metadata": {},
     "output_type": "execute_result"
    }
   ],
   "source": [
    "np.around(C,2)"
   ]
  },
  {
   "cell_type": "code",
   "execution_count": 19,
   "metadata": {},
   "outputs": [
    {
     "data": {
      "text/plain": [
       "0.00043761808925577104"
      ]
     },
     "execution_count": 19,
     "metadata": {},
     "output_type": "execute_result"
    }
   ],
   "source": [
    "mean_squared_error(0.5*J_min,J)"
   ]
  },
  {
   "cell_type": "code",
   "execution_count": 20,
   "metadata": {},
   "outputs": [
    {
     "data": {
      "text/plain": [
       "0.002837188208616779"
      ]
     },
     "execution_count": 20,
     "metadata": {},
     "output_type": "execute_result"
    }
   ],
   "source": [
    "mean_squared_error(C,C2)"
   ]
  },
  {
   "cell_type": "code",
   "execution_count": null,
   "metadata": {},
   "outputs": [],
   "source": []
  }
 ],
 "metadata": {
  "kernelspec": {
   "display_name": "Python 3",
   "language": "python",
   "name": "python3"
  },
  "language_info": {
   "codemirror_mode": {
    "name": "ipython",
    "version": 3
   },
   "file_extension": ".py",
   "mimetype": "text/x-python",
   "name": "python",
   "nbconvert_exporter": "python",
   "pygments_lexer": "ipython3",
   "version": "3.7.0"
  }
 },
 "nbformat": 4,
 "nbformat_minor": 2
}
