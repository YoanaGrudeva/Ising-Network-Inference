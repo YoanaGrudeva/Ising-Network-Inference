{
 "cells": [
  {
   "cell_type": "code",
   "execution_count": 1,
   "metadata": {},
   "outputs": [],
   "source": [
    "import numpy as np\n",
    "import matplotlib.pyplot as plt\n",
    "import scipy.optimize as op\n",
    "from sklearn.metrics import mean_squared_error\n",
    "import networkx as nx\n",
    "import itertools\n",
    "\n",
    "np.set_printoptions(precision=4)\n",
    "np.set_printoptions(suppress=True)"
   ]
  },
  {
   "cell_type": "code",
   "execution_count": 2,
   "metadata": {},
   "outputs": [],
   "source": [
    "class ising:\n",
    "    \n",
    "    def __init__(self,J):\n",
    "        self.J = J\n",
    "        self.n = self.J.shape[0]\n",
    "        self.X = np.random.choice([-1,1],self.n)\n",
    "        self.S = np.zeros((self.n,self.n))\n",
    "        self.counts = 0\n",
    "        self.correl_counts = 0\n",
    "    \n",
    "    def update(self):\n",
    "        self.counts += 1\n",
    "        i = np.random.randint(0,self.n)\n",
    "        E = self.X@self.J@self.X\n",
    "        self.X[i] *= -1\n",
    "        E_new = self.X@self.J@self.X\n",
    "        dE = E_new - E\n",
    "        p = 0.5*(1.0 + np.tanh(E_new-E))\n",
    "        if np.random.uniform(0,1)>p:\n",
    "            self.X[i] *= -1\n",
    "            \n",
    "        if self.counts%self.n ==0:\n",
    "            self.correl_counts += 1\n",
    "            self.S += np.outer(self.X,self.X)   \n",
    "            \n",
    "    def getCorrels(self):\n",
    "        return self.S/self.correl_counts\n",
    "    "
   ]
  },
  {
   "cell_type": "code",
   "execution_count": 16,
   "metadata": {
    "scrolled": false
   },
   "outputs": [
    {
     "name": "stdout",
     "output_type": "stream",
     "text": [
      "[[0.     0.3454 0.     0.1656 0.    ]\n",
      " [0.3454 0.     0.     0.     0.    ]\n",
      " [0.     0.     0.     0.0959 0.    ]\n",
      " [0.1656 0.     0.0959 0.     0.1855]\n",
      " [0.     0.     0.     0.1855 0.    ]]\n"
     ]
    },
    {
     "data": {
      "image/png": "[encoded data removed]",
      "text/plain": [
       "<Figure size 432x288 with 1 Axes>"
      ]
     },
     "metadata": {},
     "output_type": "display_data"
    }
   ],
   "source": [
    "n=5\n",
    "cp = 2/n\n",
    "p=[1-cp,cp]\n",
    "J0 = 1/n\n",
    "J = np.zeros((n,n))\n",
    "for i in range (n):   \n",
    "    for j in range(i,n):\n",
    "        J[i][j] = J[j][i] = np.random.choice([0,np.random.uniform(0,0.5)],p=[0.6,0.4])\n",
    "        J[i][i] = 0\n",
    "np.around(J,decimals = 3)\n",
    "print(J)\n",
    "graph = nx.Graph(J)\n",
    "nx.draw(graph,width = 4, edge_color ='#0699e5',node_color  = '#FEB335',\n",
    "                           node_size=500)\n",
    "\n"
   ]
  },
  {
   "cell_type": "code",
   "execution_count": 17,
   "metadata": {
    "scrolled": false
   },
   "outputs": [
    {
     "data": {
      "image/png": "[encoded data removed]",
      "text/plain": [
       "<Figure size 432x288 with 1 Axes>"
      ]
     },
     "metadata": {},
     "output_type": "display_data"
    },
    {
     "name": "stdout",
     "output_type": "stream",
     "text": [
      "[[1.     0.8815 0.2291 0.5796 0.3601]\n",
      " [0.8815 1.     0.2004 0.5093 0.3162]\n",
      " [0.2291 0.2004 1.     0.3811 0.2412]\n",
      " [0.5796 0.5093 0.3811 1.     0.6297]\n",
      " [0.3601 0.3162 0.2412 0.6297 1.    ]]\n"
     ]
    }
   ],
   "source": [
    "sys = ising(J)\n",
    "\n",
    "loops = 100000\n",
    "for k in range(loops):\n",
    "    sys.update()\n",
    "\n",
    "cols = np.where(sys.X>0,'r','b')\n",
    "nx.draw(graph,node_color=cols)\n",
    "plt.show()\n",
    "\n",
    "S = sys.getCorrels()\n",
    "print(S)\n",
    "\n",
    "\n"
   ]
  },
  {
   "cell_type": "code",
   "execution_count": null,
   "metadata": {},
   "outputs": [],
   "source": []
  },
  {
   "cell_type": "code",
   "execution_count": 18,
   "metadata": {},
   "outputs": [],
   "source": [
    "def make_ML(S):\n",
    "    n = S.shape[0]\n",
    "    sigmas = list(itertools.product([-1,1],repeat = n))\n",
    "    def ML(J_list):\n",
    "        J = J_list.reshape((n,n))\n",
    "        Z = 0.0\n",
    "        for s in sigmas:\n",
    "            Z += np.exp(s@J@s)\n",
    "        return -(S*J).ravel().sum() + np.log(Z)\n",
    "    return ML\n",
    "          "
   ]
  },
  {
   "cell_type": "code",
   "execution_count": 19,
   "metadata": {},
   "outputs": [
    {
     "name": "stdout",
     "output_type": "stream",
     "text": [
      "[0.     0.3454 0.     0.1656 0.     0.3454 0.     0.     0.     0.\n",
      " 0.     0.     0.     0.0959 0.     0.1656 0.     0.0959 0.     0.1855\n",
      " 0.     0.     0.     0.1855 0.    ]\n"
     ]
    }
   ],
   "source": [
    "print(J.ravel())\n",
    "ML = make_ML(S)\n",
    "x = ML(J.ravel())"
   ]
  },
  {
   "cell_type": "code",
   "execution_count": 20,
   "metadata": {},
   "outputs": [
    {
     "name": "stdout",
     "output_type": "stream",
     "text": [
      "[[0. 0. 0. 0. 0.]\n",
      " [0. 0. 0. 0. 0.]\n",
      " [0. 0. 0. 0. 0.]\n",
      " [0. 0. 0. 0. 0.]\n",
      " [0. 0. 0. 0. 0.]]\n"
     ]
    }
   ],
   "source": [
    "J_guess = np.random.uniform(0,0.0,(n,n))\n",
    "print(J_guess)\n",
    "MLE = op.minimize(ML,J_guess.ravel())"
   ]
  },
  {
   "cell_type": "code",
   "execution_count": 21,
   "metadata": {},
   "outputs": [
    {
     "name": "stdout",
     "output_type": "stream",
     "text": [
      "[[-0.      0.3473  0.0047  0.1679 -0.0028]\n",
      " [ 0.3473 -0.     -0.0012 -0.0021 -0.0004]\n",
      " [ 0.0047 -0.0012 -0.      0.0979  0.0006]\n",
      " [ 0.1679 -0.0021  0.0979 -0.      0.1868]\n",
      " [-0.0028 -0.0004  0.0006  0.1868 -0.    ]]\n"
     ]
    }
   ],
   "source": [
    "J_min =MLE[\"x\"].reshape(n,n) \n",
    "print(0.5*J_min)\n"
   ]
  },
  {
   "cell_type": "code",
   "execution_count": 22,
   "metadata": {},
   "outputs": [
    {
     "name": "stdout",
     "output_type": "stream",
     "text": [
      "[[0.     0.3454 0.     0.1656 0.    ]\n",
      " [0.3454 0.     0.     0.     0.    ]\n",
      " [0.     0.     0.     0.0959 0.    ]\n",
      " [0.1656 0.     0.0959 0.     0.1855]\n",
      " [0.     0.     0.     0.1855 0.    ]]\n"
     ]
    }
   ],
   "source": [
    "print(J.ravel().reshape(n,n))"
   ]
  },
  {
   "cell_type": "code",
   "execution_count": 23,
   "metadata": {},
   "outputs": [
    {
     "data": {
      "text/plain": [
       "4.02133718283333e-06"
      ]
     },
     "execution_count": 23,
     "metadata": {},
     "output_type": "execute_result"
    }
   ],
   "source": [
    "mean_squared_error(J,0.5*J_min)"
   ]
  },
  {
   "cell_type": "code",
   "execution_count": 24,
   "metadata": {},
   "outputs": [
    {
     "data": {
      "image/png": "[encoded data removed]",
      "text/plain": [
       "<Figure size 432x288 with 1 Axes>"
      ]
     },
     "metadata": {},
     "output_type": "display_data"
    },
    {
     "name": "stdout",
     "output_type": "stream",
     "text": [
      "[[1.     0.8839 0.2289 0.5661 0.3341]\n",
      " [0.8839 1.     0.2044 0.498  0.2954]\n",
      " [0.2289 0.2044 1.     0.3896 0.2388]\n",
      " [0.5661 0.498  0.3896 1.     0.6182]\n",
      " [0.3341 0.2954 0.2388 0.6182 1.    ]]\n",
      "[[1.     0.8815 0.2291 0.5796 0.3601]\n",
      " [0.8815 1.     0.2004 0.5093 0.3162]\n",
      " [0.2291 0.2004 1.     0.3811 0.2412]\n",
      " [0.5796 0.5093 0.3811 1.     0.6297]\n",
      " [0.3601 0.3162 0.2412 0.6297 1.    ]]\n"
     ]
    }
   ],
   "source": [
    "sys2 = ising(0.5*J_min)\n",
    "\n",
    "loops = 100000\n",
    "for k in range(loops):\n",
    "    sys2.update()\n",
    "\n",
    "cols = np.where(sys.X>0,'r','b')\n",
    "nx.draw(graph,node_color=cols)\n",
    "plt.show()\n",
    "\n",
    "S2 = sys2.getCorrels()\n",
    "print(S2)\n",
    "print(S)"
   ]
  },
  {
   "cell_type": "code",
   "execution_count": 25,
   "metadata": {},
   "outputs": [
    {
     "data": {
      "text/plain": [
       "0.00013205119999999982"
      ]
     },
     "execution_count": 25,
     "metadata": {},
     "output_type": "execute_result"
    }
   ],
   "source": [
    "mean_squared_error(S,S2)"
   ]
  },
  {
   "cell_type": "code",
   "execution_count": null,
   "metadata": {},
   "outputs": [],
   "source": []
  }
 ],
 "metadata": {
  "kernelspec": {
   "display_name": "Python 3",
   "language": "python",
   "name": "python3"
  },
  "language_info": {
   "codemirror_mode": {
    "name": "ipython",
    "version": 3
   },
   "file_extension": ".py",
   "mimetype": "text/x-python",
   "name": "python",
   "nbconvert_exporter": "python",
   "pygments_lexer": "ipython3",
   "version": "3.7.0"
  }
 },
 "nbformat": 4,
 "nbformat_minor": 2
}
