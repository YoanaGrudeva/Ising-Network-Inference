{
 "cells": [
  {
   "cell_type": "code",
   "execution_count": 1,
   "metadata": {},
   "outputs": [],
   "source": [
    "import matplotlib.pyplot as plt\n",
    "import pandas as pd\n",
    "import numpy as np\n",
    "import matplotlib.pyplot as plt\n",
    "import networkx as nx\n",
    "from scipy.sparse import random\n",
    "from numba import jit\n",
    "from sklearn.datasets import make_sparse_spd_matrix\n",
    "from sklearn.metrics import mean_squared_error\n",
    "#from jupyterthemes import jtplot\n",
    "#jtplot.style()"
   ]
  },
  {
   "cell_type": "code",
   "execution_count": 2,
   "metadata": {},
   "outputs": [],
   "source": [
    "def generateSpins(N):\n",
    "    return np.random.choice([-1,1],size=N)\n",
    "\n",
    "def generateS(J):\n",
    "    return np.where(J==0,J,1)\n",
    "\n",
    "def getEnergy(s, J):\n",
    "    ss = (np.dot(S,s) + np.dot(s,S))*s\n",
    "    E = -J@np.sum(ss)\n",
    "    return E\n",
    "\n",
    "def getDeltaE(i, s, J):\n",
    "    q = 2*np.dot(s,J[i])\n",
    "    return s[i]*q\n",
    "\n",
    "def update(s, N, J, beta):\n",
    "    i = np.random.choice(N)\n",
    "    deltaE = getDeltaE(i, s, J)\n",
    "    if deltaE < 0:\n",
    "        s[i] *= -1\n",
    "    elif np.random.random() < np.exp(-beta*deltaE):\n",
    "        s[i] *= -1\n",
    "    return s"
   ]
  },
  {
   "cell_type": "code",
   "execution_count": 40,
   "metadata": {},
   "outputs": [
    {
     "data": {
      "text/plain": [
       "array([[0.   , 0.   , 0.686, 0.   , 0.   , 0.   ],\n",
       "       [0.   , 0.   , 0.   , 0.   , 0.474, 0.983],\n",
       "       [0.686, 0.   , 0.   , 0.456, 0.   , 0.777],\n",
       "       [0.   , 0.   , 0.456, 0.   , 0.   , 0.   ],\n",
       "       [0.   , 0.474, 0.   , 0.   , 0.   , 0.488],\n",
       "       [0.   , 0.983, 0.777, 0.   , 0.488, 0.   ]])"
      ]
     },
     "execution_count": 40,
     "metadata": {},
     "output_type": "execute_result"
    }
   ],
   "source": [
    "# a matrix of random uniform connections J[ij]\n",
    "\n",
    "N = 6\n",
    "J_raw = np.zeros((N,N))\n",
    "for i in range (N):   \n",
    "    for j in range(i,N):\n",
    "            J_raw[i][j] = J_raw[j][i] = np.random.choice([0,np.random.uniform()],p=[0.6,0.4])\n",
    "            J_raw[i][i] = 0\n",
    "np.around(J_raw,decimals = 3)"
   ]
  },
  {
   "cell_type": "code",
   "execution_count": null,
   "metadata": {},
   "outputs": [],
   "source": []
  },
  {
   "cell_type": "markdown",
   "metadata": {},
   "source": [
    "Weight couplings: by population:\n",
    "$$\n",
    "\\tilde{J_{ij}} = \\frac{J_{ij} P_j}{\\sum_{k \\in V_i}  P_k}\n",
    "$$ "
   ]
  },
  {
   "cell_type": "code",
   "execution_count": 41,
   "metadata": {},
   "outputs": [
    {
     "data": {
      "text/plain": [
       "array([7., 2., 6., 9., 4., 5.])"
      ]
     },
     "execution_count": 41,
     "metadata": {},
     "output_type": "execute_result"
    }
   ],
   "source": [
    "P = np.around(np.random.uniform(1,10,size = N))\n",
    "P"
   ]
  },
  {
   "cell_type": "code",
   "execution_count": 42,
   "metadata": {},
   "outputs": [
    {
     "data": {
      "text/plain": [
       "array([[0.  , 0.  , 0.69, 0.  , 0.  , 0.  ],\n",
       "       [0.  , 0.  , 0.  , 0.  , 0.21, 0.55],\n",
       "       [0.23, 0.  , 0.  , 0.2 , 0.  , 0.19],\n",
       "       [0.  , 0.  , 0.46, 0.  , 0.  , 0.  ],\n",
       "       [0.  , 0.14, 0.  , 0.  , 0.  , 0.35],\n",
       "       [0.  , 0.16, 0.39, 0.  , 0.16, 0.  ]])"
      ]
     },
     "execution_count": 42,
     "metadata": {},
     "output_type": "execute_result"
    }
   ],
   "source": [
    "def pop_weight(M,pop):\n",
    "    M_new = np.copy(M)\n",
    "    for i in range(len(M)):\n",
    "        for j in range (len(M)):\n",
    "            pop_sum= 0\n",
    "            for k in range(len(M)):\n",
    "                if M_new[i][k]!=0:\n",
    "                    pop_sum+=pop[k]\n",
    "            if i!=j:\n",
    "                M_new[i][j] = pop[j]*M_new[i][j]/pop_sum\n",
    "    return M_new\n",
    "\n",
    "J = pop_weight(J_raw,P)\n",
    "np.around(J,2)\n"
   ]
  },
  {
   "cell_type": "code",
   "execution_count": 43,
   "metadata": {},
   "outputs": [],
   "source": [
    "M = 300\n",
    "beta = 2\n",
    "S = generateS(J)\n",
    "iterations = 200\n",
    "configs = []\n",
    "\n",
    "for i in range(M):\n",
    "    sys = generateSpins(N)\n",
    "\n",
    "    for n in range(iterations):\n",
    "        sys = update(sys, N, J, beta)\n",
    "    configs.append(sys)\n"
   ]
  },
  {
   "cell_type": "code",
   "execution_count": 44,
   "metadata": {},
   "outputs": [
    {
     "data": {
      "image/png": "[encoded data removed]",
      "text/plain": [
       "<Figure size 432x288 with 1 Axes>"
      ]
     },
     "metadata": {
      "needs_background": "light"
     },
     "output_type": "display_data"
    }
   ],
   "source": [
    "plt.imshow(configs[0:20])\n",
    "plt.show()\n"
   ]
  },
  {
   "cell_type": "code",
   "execution_count": 45,
   "metadata": {},
   "outputs": [
    {
     "data": {
      "text/html": [
       "<div>\n",
       "<style scoped>\n",
       "    .dataframe tbody tr th:only-of-type {\n",
       "        vertical-align: middle;\n",
       "    }\n",
       "\n",
       "    .dataframe tbody tr th {\n",
       "        vertical-align: top;\n",
       "    }\n",
       "\n",
       "    .dataframe thead th {\n",
       "        text-align: right;\n",
       "    }\n",
       "</style>\n",
       "<table border=\"1\" class=\"dataframe\">\n",
       "  <thead>\n",
       "    <tr style=\"text-align: right;\">\n",
       "      <th></th>\n",
       "      <th>0</th>\n",
       "      <th>1</th>\n",
       "      <th>2</th>\n",
       "      <th>3</th>\n",
       "      <th>4</th>\n",
       "      <th>5</th>\n",
       "    </tr>\n",
       "  </thead>\n",
       "  <tbody>\n",
       "    <tr>\n",
       "      <th>0</th>\n",
       "      <td>-1</td>\n",
       "      <td>-1</td>\n",
       "      <td>-1</td>\n",
       "      <td>-1</td>\n",
       "      <td>-1</td>\n",
       "      <td>-1</td>\n",
       "    </tr>\n",
       "    <tr>\n",
       "      <th>1</th>\n",
       "      <td>-1</td>\n",
       "      <td>-1</td>\n",
       "      <td>1</td>\n",
       "      <td>1</td>\n",
       "      <td>1</td>\n",
       "      <td>1</td>\n",
       "    </tr>\n",
       "    <tr>\n",
       "      <th>2</th>\n",
       "      <td>1</td>\n",
       "      <td>1</td>\n",
       "      <td>1</td>\n",
       "      <td>1</td>\n",
       "      <td>1</td>\n",
       "      <td>1</td>\n",
       "    </tr>\n",
       "    <tr>\n",
       "      <th>3</th>\n",
       "      <td>-1</td>\n",
       "      <td>1</td>\n",
       "      <td>-1</td>\n",
       "      <td>-1</td>\n",
       "      <td>1</td>\n",
       "      <td>1</td>\n",
       "    </tr>\n",
       "    <tr>\n",
       "      <th>4</th>\n",
       "      <td>-1</td>\n",
       "      <td>-1</td>\n",
       "      <td>-1</td>\n",
       "      <td>1</td>\n",
       "      <td>-1</td>\n",
       "      <td>-1</td>\n",
       "    </tr>\n",
       "  </tbody>\n",
       "</table>\n",
       "</div>"
      ],
      "text/plain": [
       "   0  1  2  3  4  5\n",
       "0 -1 -1 -1 -1 -1 -1\n",
       "1 -1 -1  1  1  1  1\n",
       "2  1  1  1  1  1  1\n",
       "3 -1  1 -1 -1  1  1\n",
       "4 -1 -1 -1  1 -1 -1"
      ]
     },
     "execution_count": 45,
     "metadata": {},
     "output_type": "execute_result"
    }
   ],
   "source": [
    "df = pd.DataFrame(configs)\n",
    "df.head()"
   ]
  },
  {
   "cell_type": "code",
   "execution_count": 46,
   "metadata": {},
   "outputs": [
    {
     "data": {
      "text/plain": [
       "numpy.ndarray"
      ]
     },
     "execution_count": 46,
     "metadata": {},
     "output_type": "execute_result"
    }
   ],
   "source": [
    "''' Convert df to numpy'''\n",
    "df = pd.DataFrame(df).to_numpy()\n",
    "type(df)"
   ]
  },
  {
   "cell_type": "code",
   "execution_count": 47,
   "metadata": {},
   "outputs": [
    {
     "data": {
      "text/plain": [
       "array([[1.  , 0.43, 0.71, 0.53, 0.3 , 0.54],\n",
       "       [0.43, 1.  , 0.49, 0.37, 0.55, 0.71],\n",
       "       [0.71, 0.49, 1.  , 0.61, 0.39, 0.63],\n",
       "       [0.53, 0.37, 0.61, 1.  , 0.24, 0.47],\n",
       "       [0.3 , 0.55, 0.39, 0.24, 1.  , 0.57],\n",
       "       [0.54, 0.71, 0.63, 0.47, 0.57, 1.  ]])"
      ]
     },
     "execution_count": 47,
     "metadata": {},
     "output_type": "execute_result"
    }
   ],
   "source": [
    "''' Compute the obsereved correlation matrix C\n",
    "C[ij] = (n-(M-n))/M = 2n/M -1, \n",
    "M is number of configurations and n is number of configs where s_i and s_j same\n",
    "\n",
    "'''\n",
    "def Corr(df,M):\n",
    "    C = np.zeros((N,N))\n",
    "    ct = np.zeros((N,N))\n",
    "    for i in range(N):\n",
    "        for j in range(N):\n",
    "            same = 0\n",
    "            i_samp = df[0:,i]\n",
    "            j_samp = df[0:,j]\n",
    "            for k in range(M):\n",
    "                if i_samp[k] == j_samp[k]:\n",
    "                    same +=1            \n",
    "            c_ij = 2*same/M - 1\n",
    "            C[i][j] = c_ij            \n",
    "    return C\n",
    "C = Corr(df,M)\n",
    "np.around(C,decimals = 2)"
   ]
  },
  {
   "cell_type": "code",
   "execution_count": 24,
   "metadata": {},
   "outputs": [
    {
     "data": {
      "text/plain": [
       "array([[ 1.  ,  0.07,  0.85,  0.55,  0.03,  0.07],\n",
       "       [ 0.07,  1.  ,  0.04,  0.02, -0.03,  0.95],\n",
       "       [ 0.85,  0.04,  1.  ,  0.61,  0.04,  0.04],\n",
       "       [ 0.55,  0.02,  0.61,  1.  ,  0.07,  0.  ],\n",
       "       [ 0.03, -0.03,  0.04,  0.07,  1.  , -0.02],\n",
       "       [ 0.07,  0.95,  0.04,  0.  , -0.02,  1.  ]])"
      ]
     },
     "execution_count": 24,
     "metadata": {},
     "output_type": "execute_result"
    }
   ],
   "source": [
    "np.around(np.corrcoef(df.T),2)"
   ]
  },
  {
   "cell_type": "markdown",
   "metadata": {},
   "source": [
    "# Inverse Ising\n",
    "\n",
    "at each step update $J_{ij}$ to $J_{ij}$ + $\\Delta J_{ij}$, where\n",
    "\\begin{equation}\n",
    "\\Delta J_{ij} = \\alpha (C_{ij0}-C_{ij}(t))\n",
    "\\end{equation}\n",
    "\n",
    "and\n",
    "\n",
    "\\begin{equation}\n",
    "C_{ij}(t) = (1-\\epsilon)C_{ij}(t-1)+\\epsilon C_{ij}(t)\n",
    "\\end{equation}\n",
    "% \\frac{1}{M} \\sum_{k = 1}^{M} s_i^k s_j^k"
   ]
  },
  {
   "cell_type": "code",
   "execution_count": 54,
   "metadata": {},
   "outputs": [],
   "source": [
    "def inv_ising(C, guess_J,M, alpha,epsilon, tol = 0.05,beta = 2,steps = 200, max_steps = 1000):\n",
    "    '''\n",
    "    input:\n",
    "    C = target corr matrix\n",
    "    guess_J initial guess for J\n",
    "    M number of ising configurations at each step\n",
    "    alpha = gradient value\n",
    "    epsilon = weight of prev observations\n",
    "    steps = steps of the ising model\n",
    "    \n",
    "    '''\n",
    "    eps = 1\n",
    "    error =  []\n",
    "    N = len(guess_J)\n",
    "    s = 0\n",
    "    while eps == 1:\n",
    "        s+=1\n",
    "        if s>max_steps:\n",
    "            break\n",
    "        else:\n",
    "            # make configurations\n",
    "            configs_train = []\n",
    "            for i in range(M):\n",
    "                sys = generateSpins(N)\n",
    "\n",
    "                for n in range(iterations):\n",
    "                    sys = update(sys, N, guess_J, beta)\n",
    "                configs_train.append(sys)\n",
    "\n",
    "             \n",
    "            df_obs = pd.DataFrame(configs_train) \n",
    "            df_obs = pd.DataFrame(df_obs).to_numpy()  \n",
    "            # calculate current C\n",
    "            C_obs =Corr(df_obs,M)\n",
    "\n",
    "            if s>1: \n",
    "                \n",
    "                #C_obs = (1-epsilon)*C_prev + epsilon*(1/M)*np.sum(i_samp*j_samp)\n",
    "                C_obs = (1-epsilon)*C_prev+epsilon*C_obs\n",
    "                \n",
    "\n",
    "                    \n",
    "            delta =  C - C_obs\n",
    "            error.append(np.average(np.abs(delta)))\n",
    "            '''\n",
    "            if all( np.abs(c) <=tol for c in delta.flatten() ):\n",
    "                    eps = 0\n",
    "                    print(\"converged\")\n",
    "            '''\n",
    "            if np.average(np.abs(delta)) <=tol:\n",
    "                    eps = 0\n",
    "                    print(\"converged\")\n",
    "                    break\n",
    "            delta =  pop_weight(delta,P)\n",
    "            guess_J+=alpha*delta\n",
    "            \n",
    "            guess_J = guess_J.clip(min=0)\n",
    "            \n",
    "            C_prev = C_obs\n",
    "    return guess_J, C_obs,error"
   ]
  },
  {
   "cell_type": "code",
   "execution_count": 55,
   "metadata": {},
   "outputs": [],
   "source": [
    "epsilon = 0.05\n",
    "alpha = 10**(-2)"
   ]
  },
  {
   "cell_type": "code",
   "execution_count": 56,
   "metadata": {},
   "outputs": [
    {
     "data": {
      "text/plain": [
       "array([[1.  , 0.43, 0.71, 0.53, 0.3 , 0.54],\n",
       "       [0.43, 1.  , 0.49, 0.37, 0.55, 0.71],\n",
       "       [0.71, 0.49, 1.  , 0.61, 0.39, 0.63],\n",
       "       [0.53, 0.37, 0.61, 1.  , 0.24, 0.47],\n",
       "       [0.3 , 0.55, 0.39, 0.24, 1.  , 0.57],\n",
       "       [0.54, 0.71, 0.63, 0.47, 0.57, 1.  ]])"
      ]
     },
     "execution_count": 56,
     "metadata": {},
     "output_type": "execute_result"
    }
   ],
   "source": [
    "guess_J = np.copy(C)\n",
    "#guess_J = pop_weight(guess_J,P)\n",
    "np.around(guess_J,2)"
   ]
  },
  {
   "cell_type": "code",
   "execution_count": 57,
   "metadata": {
    "scrolled": true
   },
   "outputs": [],
   "source": [
    "# prints number of steps\n",
    "J_est, C_est ,error= inv_ising(C, guess_J,M, alpha,epsilon,tol = 0.001,max_steps = 800)"
   ]
  },
  {
   "cell_type": "code",
   "execution_count": 58,
   "metadata": {},
   "outputs": [
    {
     "data": {
      "text/plain": [
       "array([[1.  , 0.13, 0.25, 0.01, 0.  , 0.  ],\n",
       "       [0.  , 1.  , 0.  , 0.  , 0.12, 0.35],\n",
       "       [0.2 , 0.22, 1.  , 0.04, 0.  , 0.17],\n",
       "       [0.01, 0.08, 0.19, 1.  , 0.  , 0.  ],\n",
       "       [0.  , 0.32, 0.  , 0.  , 1.  , 0.02],\n",
       "       [0.  , 0.55, 0.1 , 0.  , 0.12, 1.  ]])"
      ]
     },
     "execution_count": 58,
     "metadata": {},
     "output_type": "execute_result"
    }
   ],
   "source": [
    "np.around(J_est, decimals = 2)"
   ]
  },
  {
   "cell_type": "code",
   "execution_count": 59,
   "metadata": {},
   "outputs": [
    {
     "data": {
      "text/plain": [
       "array([[0.  , 0.  , 0.69, 0.  , 0.  , 0.  ],\n",
       "       [0.  , 0.  , 0.  , 0.  , 0.21, 0.55],\n",
       "       [0.23, 0.  , 0.  , 0.2 , 0.  , 0.19],\n",
       "       [0.  , 0.  , 0.46, 0.  , 0.  , 0.  ],\n",
       "       [0.  , 0.14, 0.  , 0.  , 0.  , 0.35],\n",
       "       [0.  , 0.16, 0.39, 0.  , 0.16, 0.  ]])"
      ]
     },
     "execution_count": 59,
     "metadata": {},
     "output_type": "execute_result"
    }
   ],
   "source": [
    "np.around(J, decimals = 2)"
   ]
  },
  {
   "cell_type": "code",
   "execution_count": 60,
   "metadata": {},
   "outputs": [
    {
     "data": {
      "image/png": "[encoded data removed]",
      "text/plain": [
       "<Figure size 432x288 with 1 Axes>"
      ]
     },
     "metadata": {
      "needs_background": "light"
     },
     "output_type": "display_data"
    }
   ],
   "source": [
    "\n",
    "plt.plot(error)\n",
    "plt.show()\n"
   ]
  },
  {
   "cell_type": "code",
   "execution_count": null,
   "metadata": {},
   "outputs": [],
   "source": []
  },
  {
   "cell_type": "code",
   "execution_count": 61,
   "metadata": {},
   "outputs": [],
   "source": [
    "J_est = J_est - np.identity(N)"
   ]
  },
  {
   "cell_type": "code",
   "execution_count": 62,
   "metadata": {},
   "outputs": [],
   "source": [
    "J = np.nan_to_num(J)"
   ]
  },
  {
   "cell_type": "code",
   "execution_count": 63,
   "metadata": {},
   "outputs": [
    {
     "data": {
      "text/plain": [
       "0.021697618142376158"
      ]
     },
     "execution_count": 63,
     "metadata": {},
     "output_type": "execute_result"
    }
   ],
   "source": [
    "mean_squared_error(J_est,J)"
   ]
  },
  {
   "cell_type": "code",
   "execution_count": 64,
   "metadata": {},
   "outputs": [
    {
     "data": {
      "text/plain": [
       "0.031684674551551606"
      ]
     },
     "execution_count": 64,
     "metadata": {},
     "output_type": "execute_result"
    }
   ],
   "source": [
    "mean_squared_error(C_est,C)"
   ]
  },
  {
   "cell_type": "markdown",
   "metadata": {},
   "source": [
    "--------------------------------------------\n",
    "# Plot network\n"
   ]
  },
  {
   "cell_type": "code",
   "execution_count": null,
   "metadata": {},
   "outputs": [],
   "source": [
    "labels =  list(range(N))\n",
    "\n",
    "G = nx.from_numpy_matrix(J)\n",
    "\n",
    "G = nx.relabel_nodes(G,lambda x: labels[x])\n",
    "\n",
    "G.edges(data=True)\n"
   ]
  },
  {
   "cell_type": "code",
   "execution_count": null,
   "metadata": {},
   "outputs": [],
   "source": []
  },
  {
   "cell_type": "code",
   "execution_count": 79,
   "metadata": {},
   "outputs": [],
   "source": [
    "def plot_network(connections):\n",
    "    labels =  list(range(len(connections)))\n",
    "    G = nx.from_numpy_matrix(connections)\n",
    "    G = nx.relabel_nodes(G,lambda x: labels[x])\n",
    "    G.edges(data=True)\n",
    "\n",
    "    #crates a list for edges and for the weights\n",
    "    edges,weights = zip(*nx.get_edge_attributes(G,'weight').items())\n",
    "    #positions\n",
    "    positions=nx.circular_layout(G)    \n",
    "    #Figure size\n",
    "    plt.figure(figsize=(8,8))\n",
    "    #draws nodes\n",
    "    nx.draw_networkx_nodes(G,positions,node_color='#FEB335',\n",
    "                            node_size=[v**2 * 30 for v in P])    \n",
    "    #Styling for labels\n",
    "    nx.draw_networkx_labels(G, positions, font_size=8, \n",
    "                            font_family='sans-serif')        \n",
    "    #draws the edges\n",
    "    nx.draw_networkx_edges(G, positions, edge_list=edges,width = 4, edge_color ='#0699e5')    \n",
    "    # displays the graph without axis\n",
    "    \n",
    "    plt.axis('off')  \n",
    "  \n",
    "    plt.show() "
   ]
  },
  {
   "cell_type": "code",
   "execution_count": 80,
   "metadata": {},
   "outputs": [
    {
     "data": {
      "image/png": "[encoded data removed]",
      "text/plain": [
       "<Figure size 576x576 with 1 Axes>"
      ]
     },
     "metadata": {
      "needs_background": "light"
     },
     "output_type": "display_data"
    }
   ],
   "source": [
    "plot_network(np.where(J_est>0.05,J_est,0))"
   ]
  },
  {
   "cell_type": "code",
   "execution_count": 78,
   "metadata": {},
   "outputs": [
    {
     "data": {
      "image/png": "[encoded data removed]",
      "text/plain": [
       "<Figure size 576x576 with 1 Axes>"
      ]
     },
     "metadata": {
      "needs_background": "light"
     },
     "output_type": "display_data"
    }
   ],
   "source": [
    "plot_network(J)"
   ]
  },
  {
   "cell_type": "code",
   "execution_count": null,
   "metadata": {},
   "outputs": [],
   "source": []
  },
  {
   "cell_type": "code",
   "execution_count": null,
   "metadata": {},
   "outputs": [],
   "source": []
  }
 ],
 "metadata": {
  "kernelspec": {
   "display_name": "Python 3",
   "language": "python",
   "name": "python3"
  },
  "language_info": {
   "codemirror_mode": {
    "name": "ipython",
    "version": 3
   },
   "file_extension": ".py",
   "mimetype": "text/x-python",
   "name": "python",
   "nbconvert_exporter": "python",
   "pygments_lexer": "ipython3",
   "version": "3.7.0"
  }
 },
 "nbformat": 4,
 "nbformat_minor": 2
}
