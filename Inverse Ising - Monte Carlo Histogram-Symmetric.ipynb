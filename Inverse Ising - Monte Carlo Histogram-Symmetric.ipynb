{
 "cells": [
  {
   "cell_type": "code",
   "execution_count": 1,
   "metadata": {},
   "outputs": [],
   "source": [
    "import matplotlib.pyplot as plt\n",
    "import pandas as pd\n",
    "import numpy as np\n",
    "import matplotlib.pyplot as plt\n",
    "import networkx as nx\n",
    "from sklearn.datasets import make_sparse_spd_matrix\n",
    "from sklearn.metrics import mean_squared_error\n",
    "from jupyterthemes import jtplot\n",
    "jtplot.style()"
   ]
  },
  {
   "cell_type": "code",
   "execution_count": 2,
   "metadata": {},
   "outputs": [],
   "source": [
    "def generateSpins(N):\n",
    "    return np.random.choice([-1,1],size=N)\n",
    "\n",
    "def generateS(J):\n",
    "    return np.where(J==0,J,1)\n",
    "\n",
    "def getEnergy(s, J):\n",
    "    ss = (np.dot(S,s) + np.dot(s,S))*s\n",
    "    E = -J@np.sum(ss)\n",
    "    return E\n",
    "\n",
    "def getDeltaE(i, s, J):\n",
    "    q = 2*np.dot(s,J[i])\n",
    "    return s[i]*q\n",
    "\n",
    "\n",
    "def update(s, N, J, beta):\n",
    "    i = np.random.choice(N)\n",
    "    deltaE = getDeltaE(i, s, J)\n",
    "    if deltaE < 0:\n",
    "        s[i] *= -1\n",
    "    elif np.random.random() < np.exp(-beta*deltaE):\n",
    "        s[i] *= -1\n",
    "    return s"
   ]
  },
  {
   "cell_type": "code",
   "execution_count": 3,
   "metadata": {},
   "outputs": [
    {
     "data": {
      "text/plain": [
       "array([[0.   , 0.13 , 0.276, 0.   , 0.   , 0.   ],\n",
       "       [0.13 , 0.   , 0.178, 0.364, 0.   , 0.374],\n",
       "       [0.276, 0.178, 0.   , 0.327, 0.   , 0.   ],\n",
       "       [0.   , 0.364, 0.327, 0.   , 0.   , 0.   ],\n",
       "       [0.   , 0.   , 0.   , 0.   , 0.   , 0.   ],\n",
       "       [0.   , 0.374, 0.   , 0.   , 0.   , 0.   ]])"
      ]
     },
     "execution_count": 3,
     "metadata": {},
     "output_type": "execute_result"
    }
   ],
   "source": [
    "''' a matrix of random uniform connections J[ij], where \n",
    "    J[ij] = 0  w.p. 0.4\n",
    "    J[ij] = random.uniform() w.p. 0.6\n",
    "    J[ii] = 0\n",
    "'''\n",
    "N = 6\n",
    "J = np.zeros((N,N))\n",
    "for i in range (N):   \n",
    "    for j in range(i,N):        \n",
    "        J[i][j] = J[j][i] = np.random.choice([0,np.random.uniform(0,0.4)],p=[0.4,0.6])\n",
    "        J[i][i] = 0\n",
    "np.around(J,decimals = 3)"
   ]
  },
  {
   "cell_type": "code",
   "execution_count": 4,
   "metadata": {},
   "outputs": [],
   "source": [
    "''' Run the ising model with random initial states for many steps\n",
    "M times with the same J matrix and store the configurations in a df\n",
    "'''\n",
    "\n",
    "beta = 2\n",
    "S = generateS(J)\n",
    "iterations = 1000\n",
    "M = 300 # configs\n",
    "configs = []\n",
    "for i in range(M):\n",
    "    lattice = generateSpins(N)\n",
    "\n",
    "    for n in range(iterations):\n",
    "        lattice = update(lattice, N, J, beta)\n",
    "    configs.append(lattice)"
   ]
  },
  {
   "cell_type": "code",
   "execution_count": 5,
   "metadata": {},
   "outputs": [
    {
     "data": {
      "image/png": "[encoded data removed]",
      "text/plain": [
       "<Figure size 432x288 with 1 Axes>"
      ]
     },
     "metadata": {
      "needs_background": "dark"
     },
     "output_type": "display_data"
    }
   ],
   "source": [
    "plt.imshow(configs[0:20])\n",
    "plt.show()"
   ]
  },
  {
   "cell_type": "code",
   "execution_count": 6,
   "metadata": {},
   "outputs": [],
   "source": [
    "df = pd.DataFrame(configs)"
   ]
  },
  {
   "cell_type": "code",
   "execution_count": 7,
   "metadata": {},
   "outputs": [],
   "source": [
    "''' Convert df to numpy'''\n",
    "df = pd.DataFrame(df).to_numpy()"
   ]
  },
  {
   "cell_type": "code",
   "execution_count": 8,
   "metadata": {},
   "outputs": [
    {
     "data": {
      "text/plain": [
       "array([[ 1.  ,  0.55,  0.69,  0.57, -0.01,  0.35],\n",
       "       [ 0.55,  1.  ,  0.67,  0.78,  0.03,  0.63],\n",
       "       [ 0.69,  0.67,  1.  ,  0.75, -0.05,  0.4 ],\n",
       "       [ 0.57,  0.78,  0.75,  1.  , -0.01,  0.49],\n",
       "       [-0.01,  0.03, -0.05, -0.01,  1.  ,  0.07],\n",
       "       [ 0.35,  0.63,  0.4 ,  0.49,  0.07,  1.  ]])"
      ]
     },
     "execution_count": 8,
     "metadata": {},
     "output_type": "execute_result"
    }
   ],
   "source": [
    "''' Compute the obsereved correlation matrix C\n",
    "C[ij] = (n-(M-n))/M = 2n/M -1, \n",
    "M is number of configurations and n is number of configs where s_i and s_j same\n",
    "\n",
    "'''\n",
    "def Corr(df,M):\n",
    "    C = np.zeros((N,N))\n",
    "    ct = np.zeros((N,N))\n",
    "    for i in range(N):\n",
    "        for j in range(N):\n",
    "            same = 0\n",
    "            i_samp = df[0:,i]\n",
    "            j_samp = df[0:,j]\n",
    "            for k in range(M):\n",
    "                if i_samp[k] == j_samp[k]:\n",
    "                    same +=1            \n",
    "            c_ij = 2*same/M - 1\n",
    "            C[i][j] = c_ij            \n",
    "    return C\n",
    "C = Corr(df,M)\n",
    "np.around(C,decimals = 2)"
   ]
  },
  {
   "cell_type": "code",
   "execution_count": 9,
   "metadata": {},
   "outputs": [
    {
     "data": {
      "text/plain": [
       "array([[ 1.  ,  0.55,  0.69,  0.57, -0.01,  0.35],\n",
       "       [ 0.55,  1.  ,  0.67,  0.78,  0.03,  0.63],\n",
       "       [ 0.69,  0.67,  1.  ,  0.75, -0.05,  0.4 ],\n",
       "       [ 0.57,  0.78,  0.75,  1.  , -0.01,  0.49],\n",
       "       [-0.01,  0.03, -0.05, -0.01,  1.  ,  0.07],\n",
       "       [ 0.35,  0.63,  0.4 ,  0.49,  0.07,  1.  ]])"
      ]
     },
     "execution_count": 9,
     "metadata": {},
     "output_type": "execute_result"
    }
   ],
   "source": [
    "np.around(np.corrcoef(df.T),2)"
   ]
  },
  {
   "cell_type": "markdown",
   "metadata": {},
   "source": [
    "# Inverse Ising\n",
    "\n",
    "at each step update $J_{ij}$ to $J_{ij}$ + $\\Delta J_{ij}$, where\n",
    "\\begin{equation}\n",
    "\\Delta J_{ij} = \\alpha (C_{ij0}-C_{ij}(t))\n",
    "\\end{equation}\n",
    "\n",
    "and\n",
    "\n",
    "\\begin{equation}\n",
    "C_{ij}(t) = (1-\\epsilon)C_{ij}(t-1)+\\epsilon C_{ij}(t)\n",
    "\\end{equation}\n"
   ]
  },
  {
   "cell_type": "code",
   "execution_count": 10,
   "metadata": {},
   "outputs": [],
   "source": [
    "def inv_ising(C, guess_J,M, alpha,epsilon, tol = 0.05,beta = 2,steps = 200, max_steps = 1000):\n",
    "    '''\n",
    "    input:\n",
    "    C = target corr matrix\n",
    "    guess_J initial guess for J\n",
    "    M number of ising configurations at each step\n",
    "    alpha = gradient value\n",
    "    epsilon = weight of prev observations\n",
    "    steps = steps of the ising model\n",
    "    \n",
    "    '''\n",
    "    eps = 1\n",
    "    error =  []\n",
    "    N = len(guess_J)\n",
    "    s = 0\n",
    "    while eps == 1:\n",
    "        s+=1\n",
    "        if s>max_steps:\n",
    "            break\n",
    "        else:\n",
    "            # make configurations\n",
    "            configs_train = [] \n",
    "            for i in range(M):\n",
    "                lattice = generateSpins(N)\n",
    "\n",
    "                for n in range(iterations):\n",
    "                    lattice = update(lattice, N, guess_J, beta)\n",
    "                configs_train.append(lattice)\n",
    "             \n",
    "            df_obs = pd.DataFrame(configs_train) \n",
    "            df_obs = pd.DataFrame(df_obs).to_numpy()  \n",
    "            # calculate current C\n",
    "            C_obs =Corr(df_obs,M)\n",
    "            \n",
    "            if s>1: \n",
    "                \n",
    "                #C_obs = (1-epsilon)*C_prev + epsilon*(1/M)*np.sum(i_samp*j_samp)\n",
    "                C_obs = (1-epsilon)*C_prev+epsilon*C_obs\n",
    "                \n",
    "\n",
    "                    \n",
    "            delta =  C -C_obs\n",
    "        \n",
    "            if np.average(np.abs(delta)) <=tol:\n",
    "                    eps = 0\n",
    "                    print(\"converged\")\n",
    "            \n",
    "            guess_J+=alpha*delta\n",
    "            guess_J = guess_J.clip(min=0)\n",
    "            error.append(np.average(np.abs(delta)))\n",
    "            C_prev = C_obs\n",
    "    return guess_J, C_obs,error"
   ]
  },
  {
   "cell_type": "code",
   "execution_count": 11,
   "metadata": {},
   "outputs": [],
   "source": [
    "epsilon = 0.05\n",
    "alpha = 5*10**(-3)"
   ]
  },
  {
   "cell_type": "code",
   "execution_count": 12,
   "metadata": {},
   "outputs": [
    {
     "data": {
      "text/plain": [
       "array([[1.  , 0.55, 0.69, 0.57, 0.  , 0.35],\n",
       "       [0.55, 1.  , 0.67, 0.78, 0.03, 0.63],\n",
       "       [0.69, 0.67, 1.  , 0.75, 0.  , 0.4 ],\n",
       "       [0.57, 0.78, 0.75, 1.  , 0.  , 0.49],\n",
       "       [0.  , 0.03, 0.  , 0.  , 1.  , 0.07],\n",
       "       [0.35, 0.63, 0.4 , 0.49, 0.07, 1.  ]])"
      ]
     },
     "execution_count": 12,
     "metadata": {},
     "output_type": "execute_result"
    }
   ],
   "source": [
    "guess_J = np.copy(C)\n",
    "guess_J = guess_J.clip(min=0)\n",
    "np.around(guess_J,2)"
   ]
  },
  {
   "cell_type": "code",
   "execution_count": 13,
   "metadata": {
    "scrolled": true
   },
   "outputs": [],
   "source": [
    "# prints number of steps\n",
    "J_est, C_est ,error= inv_ising(C, guess_J,M, alpha,epsilon,tol = 0.01,max_steps = 1000)"
   ]
  },
  {
   "cell_type": "code",
   "execution_count": 14,
   "metadata": {},
   "outputs": [
    {
     "data": {
      "text/plain": [
       "array([[0.  , 0.06, 0.17, 0.  , 0.  , 0.01],\n",
       "       [0.06, 0.  , 0.03, 0.23, 0.  , 0.18],\n",
       "       [0.17, 0.03, 0.  , 0.2 , 0.  , 0.  ],\n",
       "       [0.  , 0.23, 0.2 , 0.  , 0.  , 0.  ],\n",
       "       [0.  , 0.  , 0.  , 0.  , 0.  , 0.02],\n",
       "       [0.01, 0.18, 0.  , 0.  , 0.02, 0.  ]])"
      ]
     },
     "execution_count": 14,
     "metadata": {},
     "output_type": "execute_result"
    }
   ],
   "source": [
    "np.around(J_est-np.identity(N), decimals = 2)"
   ]
  },
  {
   "cell_type": "code",
   "execution_count": 15,
   "metadata": {},
   "outputs": [
    {
     "data": {
      "text/plain": [
       "array([[0.  , 0.13, 0.28, 0.  , 0.  , 0.  ],\n",
       "       [0.13, 0.  , 0.18, 0.36, 0.  , 0.37],\n",
       "       [0.28, 0.18, 0.  , 0.33, 0.  , 0.  ],\n",
       "       [0.  , 0.36, 0.33, 0.  , 0.  , 0.  ],\n",
       "       [0.  , 0.  , 0.  , 0.  , 0.  , 0.  ],\n",
       "       [0.  , 0.37, 0.  , 0.  , 0.  , 0.  ]])"
      ]
     },
     "execution_count": 15,
     "metadata": {},
     "output_type": "execute_result"
    }
   ],
   "source": [
    "np.around(J, decimals = 2)"
   ]
  },
  {
   "cell_type": "code",
   "execution_count": 16,
   "metadata": {},
   "outputs": [
    {
     "data": {
      "image/png": "[encoded data removed]",
      "text/plain": [
       "<Figure size 432x288 with 1 Axes>"
      ]
     },
     "metadata": {
      "needs_background": "dark"
     },
     "output_type": "display_data"
    }
   ],
   "source": [
    "\n",
    "plt.plot(error)\n",
    "plt.show()\n"
   ]
  },
  {
   "cell_type": "code",
   "execution_count": 17,
   "metadata": {},
   "outputs": [],
   "source": [
    "J_est = J_est-np.identity(6)"
   ]
  },
  {
   "cell_type": "code",
   "execution_count": 29,
   "metadata": {},
   "outputs": [
    {
     "data": {
      "text/plain": [
       "0.00619680040479505"
      ]
     },
     "execution_count": 29,
     "metadata": {},
     "output_type": "execute_result"
    }
   ],
   "source": [
    "mean_squared_error(J_est,J)"
   ]
  },
  {
   "cell_type": "code",
   "execution_count": 19,
   "metadata": {},
   "outputs": [
    {
     "data": {
      "text/plain": [
       "0.0006810149743570613"
      ]
     },
     "execution_count": 19,
     "metadata": {},
     "output_type": "execute_result"
    }
   ],
   "source": [
    "mean_squared_error(C_est,C)"
   ]
  },
  {
   "cell_type": "code",
   "execution_count": 21,
   "metadata": {},
   "outputs": [
    {
     "data": {
      "text/plain": [
       "(array([[ 1.  ,  0.55,  0.69,  0.57, -0.01,  0.35],\n",
       "        [ 0.55,  1.  ,  0.67,  0.78,  0.03,  0.63],\n",
       "        [ 0.69,  0.67,  1.  ,  0.75, -0.05,  0.4 ],\n",
       "        [ 0.57,  0.78,  0.75,  1.  , -0.01,  0.49],\n",
       "        [-0.01,  0.03, -0.05, -0.01,  1.  ,  0.07],\n",
       "        [ 0.35,  0.63,  0.4 ,  0.49,  0.07,  1.  ]]),\n",
       " array([[1.  , 0.55, 0.68, 0.58, 0.02, 0.35],\n",
       "        [0.55, 1.  , 0.67, 0.79, 0.05, 0.62],\n",
       "        [0.68, 0.67, 1.  , 0.79, 0.03, 0.43],\n",
       "        [0.58, 0.79, 0.79, 1.  , 0.04, 0.49],\n",
       "        [0.02, 0.05, 0.03, 0.04, 1.  , 0.09],\n",
       "        [0.35, 0.62, 0.43, 0.49, 0.09, 1.  ]]))"
      ]
     },
     "execution_count": 21,
     "metadata": {},
     "output_type": "execute_result"
    }
   ],
   "source": [
    "np.around(C,2),np.around(C_est,2)"
   ]
  },
  {
   "cell_type": "markdown",
   "metadata": {},
   "source": [
    "--------------------------------------------\n",
    "# Plot network\n"
   ]
  },
  {
   "cell_type": "code",
   "execution_count": 22,
   "metadata": {},
   "outputs": [
    {
     "data": {
      "text/plain": [
       "EdgeDataView([(0, 1, {'weight': 0.12976854645242045}), (0, 2, {'weight': 0.27608408083539926}), (1, 2, {'weight': 0.17767020578858297}), (1, 3, {'weight': 0.3643441571750978}), (1, 5, {'weight': 0.3742536162659252}), (2, 3, {'weight': 0.3268848710151149})])"
      ]
     },
     "execution_count": 22,
     "metadata": {},
     "output_type": "execute_result"
    }
   ],
   "source": [
    "labels =  list(range(N))\n",
    "\n",
    "G = nx.from_numpy_matrix(J)\n",
    "\n",
    "G = nx.relabel_nodes(G,lambda x: labels[x])\n",
    "\n",
    "G.edges(data=True)\n"
   ]
  },
  {
   "cell_type": "code",
   "execution_count": 23,
   "metadata": {},
   "outputs": [],
   "source": [
    "def plot_network(connections):\n",
    "    labels =  list(range(len(connections)))\n",
    "    G = nx.from_numpy_matrix(connections)\n",
    "    G = nx.relabel_nodes(G,lambda x: labels[x])\n",
    "    G.edges(data=True)\n",
    "\n",
    "    #crates a list for edges and for the weights\n",
    "    edges,weights = zip(*nx.get_edge_attributes(G,'weight').items())\n",
    "    #positions\n",
    "    positions=nx.circular_layout(G)    \n",
    "    #Figure size\n",
    "    plt.figure(figsize=(8,8))\n",
    "    #draws nodes\n",
    "    nx.draw_networkx_nodes(G,positions,node_color='#FEB335',\n",
    "                           node_size=500)    \n",
    "    #Styling for labels\n",
    "    nx.draw_networkx_labels(G, positions, font_size=8, \n",
    "                            font_family='sans-serif')        \n",
    "    #draws the edges\n",
    "    nx.draw_networkx_edges(G, positions, edge_list=edges,width = 4, edge_color ='#0699e5')    \n",
    "    # displays the graph without axis\n",
    "    plt.axis('off')      \n",
    "    plt.show() "
   ]
  },
  {
   "cell_type": "code",
   "execution_count": 24,
   "metadata": {},
   "outputs": [],
   "source": [
    "J_draw = np.where(J_est>0.1,J_est,0)"
   ]
  },
  {
   "cell_type": "code",
   "execution_count": 25,
   "metadata": {},
   "outputs": [
    {
     "data": {
      "text/plain": [
       "array([[0.        , 0.        , 0.17402225, 0.        , 0.        ,\n",
       "        0.        ],\n",
       "       [0.        , 0.        , 0.        , 0.22571822, 0.        ,\n",
       "        0.17939998],\n",
       "       [0.17402225, 0.        , 0.        , 0.20068325, 0.        ,\n",
       "        0.        ],\n",
       "       [0.        , 0.22571822, 0.20068325, 0.        , 0.        ,\n",
       "        0.        ],\n",
       "       [0.        , 0.        , 0.        , 0.        , 0.        ,\n",
       "        0.        ],\n",
       "       [0.        , 0.17939998, 0.        , 0.        , 0.        ,\n",
       "        0.        ]])"
      ]
     },
     "execution_count": 25,
     "metadata": {},
     "output_type": "execute_result"
    }
   ],
   "source": [
    "J_draw"
   ]
  },
  {
   "cell_type": "code",
   "execution_count": 26,
   "metadata": {},
   "outputs": [
    {
     "data": {
      "image/png": "[encoded data removed]",
      "text/plain": [
       "<Figure size 576x576 with 1 Axes>"
      ]
     },
     "metadata": {
      "needs_background": "dark"
     },
     "output_type": "display_data"
    }
   ],
   "source": [
    "plot_network(J_draw)"
   ]
  },
  {
   "cell_type": "code",
   "execution_count": null,
   "metadata": {},
   "outputs": [],
   "source": []
  },
  {
   "cell_type": "code",
   "execution_count": 27,
   "metadata": {},
   "outputs": [
    {
     "data": {
      "image/png": "[encoded data removed]",
      "text/plain": [
       "<Figure size 576x576 with 1 Axes>"
      ]
     },
     "metadata": {
      "needs_background": "dark"
     },
     "output_type": "display_data"
    }
   ],
   "source": [
    "plot_network(J)"
   ]
  },
  {
   "cell_type": "code",
   "execution_count": null,
   "metadata": {},
   "outputs": [],
   "source": []
  },
  {
   "cell_type": "code",
   "execution_count": null,
   "metadata": {},
   "outputs": [],
   "source": []
  },
  {
   "cell_type": "code",
   "execution_count": null,
   "metadata": {},
   "outputs": [],
   "source": []
  }
 ],
 "metadata": {
  "kernelspec": {
   "display_name": "Python 3",
   "language": "python",
   "name": "python3"
  },
  "language_info": {
   "codemirror_mode": {
    "name": "ipython",
    "version": 3
   },
   "file_extension": ".py",
   "mimetype": "text/x-python",
   "name": "python",
   "nbconvert_exporter": "python",
   "pygments_lexer": "ipython3",
   "version": "3.7.0"
  }
 },
 "nbformat": 4,
 "nbformat_minor": 2
}
